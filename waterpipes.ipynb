{
 "cells": [
  {
   "cell_type": "markdown",
   "metadata": {},
   "source": [
    "**Decription:**\n",
    "Script to solve a pipe-rotating puzzle for the Watch Cats problem in the CODE BLUE CTF 2018 Quals.\n",
    "\n",
    "Basically, theres a water source in pipe segment 0, various joints of different shapes which connect certain segments and which can be rotated 90 degress at a time, and a set of goal segments. You must determine orientations for the different joints which allow the water be able to flow to all the goal segments.\n",
    "\n",
    "Puzzles are in the following (dictionary) format:\n",
    "- attempts: the max number of rotations allowed\n",
    "- num_cables: the number of segments of pipe\n",
    "- num_joints: the number of rotate-able pipe joints\n",
    "- connections: list containing lists of the segments each joint connects to in order N,E,S,W (-1 if there is no segment in a direction)\n",
    "- joint_types: encodes the style and initial rotation of each joint ( e.g. 0 -> |_ )\n",
    "- goals: a list of segments that must be joined to the 0th segment to win\n",
    "\n",
    "The required output is:\n",
    "- The number of times each pipe joint should be rotated 90 degrees counter-clockwise\n",
    "\n",
    "**Initial Plan:**\n",
    "The intial plan was to implement some kind of dynamic programming approach to the problem, noting that:\n",
    "- If S[i,j] is the set of rotation states of the joints which join pipe segments i and j\n",
    "- then S[i,j] = Union{ S[i,k] n S[k,j] for k != i,j }\n",
    "\n",
    "and then trying to find suitable constraints on k to avoid cyclic subproblem dependence. However I wasn't able to find such a constraint which made the subproblems non-cyclic and which would give a correct solution.\n",
    "\n",
    "\n",
    "**Actual solution:**\n",
    "Instead, we calculate the set of rotation states that connect a given path from the 0th segment to a goal segment, storing the set of states connecting all subpaths from 0 to avoid recalculation:\n",
    "- S[*path*] = set of rotation states of the joints which make *path* connected\n",
    "- where *path* starts at 0\n",
    "\n",
    "For each goal, we find the union over all simple paths from 0 to the goal of the states which connect the path. Then take the intersection of these over all goals:\n",
    "- States[*goal*] = Union{ S[*path*] for each *path* a simple path from 0 to *goal* }\n",
    "- FinalStates = Intersection{ States[*goal*] for each *goal* in goals }\n",
    "\n",
    "An additional filtering step gives us those rotation states which can be achieved in less than or exactly *attempts* rotations.\n",
    "\n",
    "**Representations:**\n",
    "- Storing the set of rotation states explicitly takes up way too much memory, so instead they are stored as a union of hyperplanes in the *num_joints*-dimensional space, where hyperplanes are represented as a pair of lists: one giving the *free* dimensions (i.e. those joints which can be in any rotation state they like), and one giving the rotations of those joints that are *fixed* (and the rotations for those that are free just being given as 0)\n",
    "\n",
    "**Additional notes:**\n",
    "- The given Stage 5 is actually unsolvable: joint 32 redirects the flow from 0 into at most one of two distinct connected components, each of which contains goals.\n",
    "- The expectation of the CTF challenge was to actually break the verification program to get it to think that the stage had been solved. To this end I have also included an additional *debug* joint type which looks like a +.\n",
    "- My hope was to find a solution to the stage if joint 32 were replaced by a +, then overflow the integer storing the direction that joint 32 is facing to make it negative. The C++ modulus operator preserves the sign of the first argument, so then instead of checking the configuration for joint 32, the verifier program would potentially check the config of the joint before it."
   ]
  },
  {
   "cell_type": "markdown",
   "metadata": {},
   "source": [
    "Read in and parse the stages"
   ]
  },
  {
   "cell_type": "code",
   "execution_count": 1,
   "metadata": {},
   "outputs": [],
   "source": [
    "lines = []\n",
    "with open('stage-descs') as f:\n",
    "    lines = f.readlines()"
   ]
  },
  {
   "cell_type": "code",
   "execution_count": 2,
   "metadata": {
    "scrolled": true
   },
   "outputs": [
    {
     "data": {
      "text/plain": [
       "['STAGE 1:\\n',\n",
       " '============================\\n',\n",
       " \"{'attempts': 1, 'goals': [1], 'num_goals': 1, 'joint_types': [5], 'num_joints': 1, 'connections': [[1, -1, 0, -1]], 'num_cables': 2}\\n\",\n",
       " '\\n',\n",
       " 'STAGE 2:\\n',\n",
       " '============================\\n',\n",
       " \"{'attempts': 9, 'goals': [8], 'num_goals': 1, 'joint_types': [6, 3, 3, 2, 2, 3], 'num_joints': 6, 'connections': [[3, -1, 0, 1], [2, 1, -1, -1], [6, -1, 3, 4], [5, 4, 2, -1], [-1, -1, 6, 7], [8, 7, 5, -1]], 'num_cables': 9}\\n\",\n",
       " '\\n',\n",
       " 'STAGE 3:\\n',\n",
       " '============================\\n',\n",
       " \"{'attempts': 8, 'goals': [12, 9, 13, 8, 14, 7], 'num_goals': 6, 'joint_types': [0, 5, 1, 5, 0, 9, 8, 4, 2, 6], 'num_joints': 10, 'connections': [[-1, 3, 0, 14], [-1, 0, 2, 1], [7, 1, 10, 12], [6, 11, 7, 8], [1, 4, 9, -1], [4, 5, -1, 13], [-1, 5, -1, 0], [10, -1, 6, 3], [-1, 12, 1, -1], [11, 12, -1, -1]], 'num_cables': 15}\\n\",\n",
       " '\\n',\n",
       " 'STAGE 4:\\n',\n",
       " '============================\\n',\n",
       " \"{'attempts': 8, 'goals': [14, 4, 10, 1, 12, 19], 'num_goals': 6, 'joint_types': [7, 5, 8, 9, 8, 5, 3, 2, 7, 1, 8, 1, 8, 5, 3], 'num_joints': 15, 'connections': [[11, -1, 19, 0], [19, 10, 21, 13], [21, 17, -1, 3], [4, -1, 14, 11], [12, 10, -1, 8], [3, 9, -1, 2], [4, 1, 18, 20], [-1, 15, 17, 7], [16, -1, 13, 6], [5, 18, -1, -1], [16, 13, 2, 5], [-1, -1, -1, 16], [5, 2, 11, 4], [1, -1, 0, 9], [16, 11, 13, -1]], 'num_cables': 22}\\n\",\n",
       " '\\n',\n",
       " 'STAGE 5:\\n',\n",
       " '============================\\n',\n",
       " \"{'attempts': 114514, 'goals': [1, 10, 23, 20, 24, 19, 25, 18, 40, 30, 36, 27, 38, 45], 'num_goals': 14, 'joint_types': [5, 6, 3, 3, 2, 2, 3, 0, 5, 1, 5, 0, 9, 8, 4, 2, 6, 7, 5, 8, 9, 8, 5, 3, 2, 7, 1, 8, 1, 8, 5, 3, 3, 4], 'num_joints': 34, 'connections': [[1, -1, 0, -1], [5, -1, 2, 3], [4, 3, -1, -1], [8, -1, 5, 6], [7, 6, 4, -1], [-1, -1, 8, 9], [10, 9, 7, -1], [-1, 14, 11, 25], [-1, 11, 13, 12], [18, 12, 21, 23], [17, 22, 18, 19], [12, 15, 20, -1], [15, 16, -1, 24], [-1, 16, -1, 11], [21, -1, 17, 14], [-1, 23, 12, -1], [22, 23, -1, -1], [37, -1, 45, 26], [45, 36, 47, 39], [47, 43, -1, 29], [30, -1, 40, 37], [38, 36, -1, 34], [29, 35, -1, 28], [30, 27, 44, 46], [-1, 41, 43, 33], [42, -1, 39, 32], [31, 44, -1, -1], [42, 39, 28, 31], [-1, -1, -1, 42], [31, 28, 37, 30], [27, -1, 26, 35], [42, 37, 39, -1], [48, 2, 11, 26], [0, -1, 48, -1]], 'num_cables': 49}\\n\",\n",
       " '\\n']"
      ]
     },
     "execution_count": 2,
     "metadata": {},
     "output_type": "execute_result"
    }
   ],
   "source": [
    "lines"
   ]
  },
  {
   "cell_type": "code",
   "execution_count": 3,
   "metadata": {},
   "outputs": [],
   "source": [
    "import ast\n",
    "\n",
    "stages = {}\n",
    "i = 0\n",
    "while i < len(lines):\n",
    "    if (lines[i].startswith('STAGE')):\n",
    "        name = lines[i][:-2]\n",
    "        dictIn = ast.literal_eval(lines[i+2][:-1])\n",
    "        stages[name] = dictIn\n",
    "        i += 3\n",
    "    else:\n",
    "        i += 1"
   ]
  },
  {
   "cell_type": "code",
   "execution_count": 4,
   "metadata": {},
   "outputs": [],
   "source": [
    "inputDict = stages['STAGE 3']"
   ]
  },
  {
   "cell_type": "code",
   "execution_count": null,
   "metadata": {},
   "outputs": [],
   "source": [
    "# Stage 5 but with joint 32 replaced by a + shape\n",
    "inputDict = {'attempts': 114514, 'goals': [1, 10, 23, 20, 24, 19, 25, 18, 40, 30, 36, 27, 38, 45], 'num_goals': 14, 'joint_types': [5, 6, 3, 3, 2, 2, 3, 0, 5, 1, 5, 0, 9, 8, 4, 2, 6, 7, 5, 8, 9, 8, 5, 3, 2, 7, 1, 8, 1, 8, 5, 3, 10, 4], 'num_joints': 34, 'connections': [[1, -1, 0, -1], [5, -1, 2, 3], [4, 3, -1, -1], [8, -1, 5, 6], [7, 6, 4, -1], [-1, -1, 8, 9], [10, 9, 7, -1], [-1, 14, 11, 25], [-1, 11, 13, 12], [18, 12, 21, 23], [17, 22, 18, 19], [12, 15, 20, -1], [15, 16, -1, 24], [-1, 16, -1, 11], [21, -1, 17, 14], [-1, 23, 12, -1], [22, 23, -1, -1], [37, -1, 45, 26], [45, 36, 47, 39], [47, 43, -1, 29], [30, -1, 40, 37], [38, 36, -1, 34], [29, 35, -1, 28], [30, 27, 44, 46], [-1, 41, 43, 33], [42, -1, 39, 32], [31, 44, -1, -1], [42, 39, 28, 31], [-1, -1, -1, 42], [31, 28, 37, 30], [27, -1, 26, 35], [42, 37, 39, -1], [48, 2, 11, 26], [0, -1, 48, -1]], 'num_cables': 49}"
   ]
  },
  {
   "cell_type": "markdown",
   "metadata": {},
   "source": [
    "Use a NetworkX graph to be able to find all potential simple paths from 0 to a goal"
   ]
  },
  {
   "cell_type": "code",
   "execution_count": 5,
   "metadata": {},
   "outputs": [],
   "source": [
    "import networkx as nx\n",
    "\n",
    "G = nx.Graph()\n",
    "\n",
    "for connection in inputDict['connections']:\n",
    "    for i in range(1, 4):\n",
    "        for j in range(0, i):\n",
    "            if (connection[i] != -1 and connection[j] != -1):\n",
    "                G.add_edge(connection[i],connection[j])"
   ]
  },
  {
   "cell_type": "markdown",
   "metadata": {},
   "source": [
    "Given a joint of a given joint type, and two directions, we want to find the set of rotations which will make the joint join those two directions"
   ]
  },
  {
   "cell_type": "code",
   "execution_count": 6,
   "metadata": {},
   "outputs": [],
   "source": [
    "# directions are 0:up, 1:right, 2:down, 3:left\n",
    "# rotations are CCW\n",
    "def rotationsSolving(jointType, dir1, dir2):\n",
    "    rotations = {\n",
    "        # up-right (and CW rotations)\n",
    "        (0,0,1) : [0], (0,0,2) : [], (0,0,3) : [1], (0,1,2) : [3], (0,1,3) : [], (0,2,3) : [2],\n",
    "        \n",
    "        (1,0,1) : [1], (1,0,2) : [], (1,0,3) : [2], (1,1,2) : [0], (1,1,3) : [], (1,2,3) : [3],\n",
    "        \n",
    "        (2,0,1) : [2], (2,0,2) : [], (2,0,3) : [3], (2,1,2) : [1], (2,1,3) : [], (2,2,3) : [0],\n",
    "        \n",
    "        (3,0,1) : [3], (3,0,2) : [], (3,0,3) : [0], (3,1,2) : [2], (3,1,3) : [], (3,2,3) : [1],\n",
    "        \n",
    "        # up-down and rotation\n",
    "        (4,0,1) : [], (4,0,2) : [0], (4,0,3) : [], (4,1,2) : [], (4,1,3) : [1], (4,2,3) : [],\n",
    "        \n",
    "        (5,0,1) : [], (5,0,2) : [1], (5,0,3) : [], (5,1,2) : [], (5,1,3) : [0], (5,2,3) : [],\n",
    "        \n",
    "        # up-right-down and rotations\n",
    "        (6,0,1) : [0, 1], (6,0,2) : [0, 2], (6,0,3) : [1, 2], (6,1,2) : [0, 3], (6,1,3) : [1, 3], (6,2,3) : [2, 3],\n",
    "        \n",
    "        (7,0,1) : [1, 2], (7,0,2) : [1, 3], (7,0,3) : [2, 3], (7,1,2) : [1, 0], (7,1,3) : [0, 2], (7,2,3) : [3, 0],\n",
    "        \n",
    "        (8,0,1) : [2, 3], (8,0,2) : [2, 0], (8,0,3) : [3, 0], (8,1,2) : [2, 1], (8,1,3) : [3, 1], (8,2,3) : [0, 1],\n",
    "        \n",
    "        (9,0,1) : [3, 0], (9,0,2) : [3, 1], (9,0,3) : [0, 1], (9,1,2) : [3, 2], (9,1,3) : [0, 2], (9,2,3) : [1, 2],\n",
    "        \n",
    "        # debug type : up-right-down-left\n",
    "        (10,0,1) : [0,1,2,3], (10,0,2) : [0,1,2,3], (10,0,3) : [0,1,2,3],\n",
    "        (10,1,2) : [0,1,2,3], (10,1,3) : [0,1,2,3], (10,2,3) : [0,1,2,3]\n",
    "    }\n",
    "    return set(rotations[(jointType, min(dir1,dir2), max(dir1,dir2))])\n",
    "    "
   ]
  },
  {
   "cell_type": "markdown",
   "metadata": {},
   "source": [
    "We want to be able to find the intersection of two unions of hyperplanes"
   ]
  },
  {
   "cell_type": "code",
   "execution_count": 7,
   "metadata": {},
   "outputs": [],
   "source": [
    "def intersection(s1, s2):\n",
    "    ret = set()\n",
    "    # For each hyperplane in the first set\n",
    "    for (fr1,fx1) in s1:\n",
    "        # And each hyperplane in the second set\n",
    "        for (fr2,fx2) in s2:\n",
    "            # Construct a potential intersection hyperplane\n",
    "            fr = [i for i in range(len(fx1))]\n",
    "            fx = [0 for i in range(len(fx1))]\n",
    "            empty = False\n",
    "            # Fix the value of the non-free directions\n",
    "            for i in range(len(fx1)):  \n",
    "                if ((not i in fr1) and (not i in fr2)):\n",
    "                    # If the hyperplanes are both fixed in one direction,\n",
    "                    #  but not at the same value, then they don't intersect\n",
    "                    if (fx1[i] != fx2[i]):\n",
    "                        empty = True\n",
    "                        break\n",
    "                    else:\n",
    "                        fr.remove(i)\n",
    "                        fx[i] = fx1[i]\n",
    "                elif (not i in fr1):\n",
    "                    fr.remove(i)\n",
    "                    fx[i] = fx1[i]\n",
    "                elif (not i in fr2):\n",
    "                    fr.remove(i)\n",
    "                    fx[i] = fx2[i]\n",
    "            if (not empty):\n",
    "                ret.add((tuple(fr),tuple(fx)))\n",
    "    return ret"
   ]
  },
  {
   "cell_type": "markdown",
   "metadata": {},
   "source": [
    "The main algorithm calculates the set of rotation states connecting a given path which starts at 0"
   ]
  },
  {
   "cell_type": "code",
   "execution_count": 8,
   "metadata": {},
   "outputs": [],
   "source": [
    "# All states connect the path (0)\n",
    "pathSolutions = { (0,) : set([(tuple([i for i in range(inputDict['num_joints'])]),tuple([0 for i in range(inputDict['num_joints'])]))]) }\n",
    "# Keep ahold of the states which connect two adjacent segments\n",
    "pairSolutions = {}\n",
    "def solutionStates(path):\n",
    "    states = set()\n",
    "    pathStart = 0\n",
    "    \n",
    "    # First check for the longest subpath which has already been calculated\n",
    "    for i in range(len(path)):\n",
    "        if (path[:-i] in pathSolutions.keys()):\n",
    "            states = pathSolutions[path[:-i]]\n",
    "            pathStart = len(path) - 1 - i\n",
    "            break\n",
    "            \n",
    "    # Now for each step of this path that hasn't already been calculated\n",
    "    for i in range(pathStart+1, len(path)):\n",
    "        \n",
    "        # Give up if this path is impossible to join up\n",
    "        if (states == set()):\n",
    "            break\n",
    "            \n",
    "        stepStates = set()\n",
    "        \n",
    "        # If the set of states that join two adjacent segments is known, use it\n",
    "        if ((min(path[i],path[i-1]),max(path[i],path[i-1])) in pairSolutions.keys()):\n",
    "            stepStates = pairSolutions[(min(path[i],path[i-1]),max(path[i],path[i-1]))]\n",
    "            \n",
    "        # Otherwise, calculate it, store it, and use it\n",
    "        else:\n",
    "            for conInd in range(len(inputDict['connections'])):\n",
    "                if (path[i-1] in inputDict['connections'][conInd] and path[i] in inputDict['connections'][conInd]):\n",
    "                    solvingRotations = rotationsSolving(inputDict['joint_types'][conInd],\n",
    "                                                        inputDict['connections'][conInd].index(path[i-1]),\n",
    "                                                        inputDict['connections'][conInd].index(path[i]))\n",
    "                    stepStates = stepStates.union(\n",
    "                        set([(\n",
    "                                tuple([i for i in range(inputDict['num_joints']) if i != conInd]),\n",
    "                                tuple([(sol if (i == conInd) else 0) for i in range(inputDict['num_joints'])])\n",
    "                            ) for sol in solvingRotations])\n",
    "                    )\n",
    "            pairSolutions[(min(path[i],path[i-1]),max(path[i],path[i-1]))] = stepStates\n",
    "            \n",
    "        # Cut down to states that connect both the path so far as well as this next step\n",
    "        states = intersection(states, stepStates)\n",
    "        \n",
    "        # Store the solution for this subpath with the extra step\n",
    "        pathSolutions[path[:i+1]] = states\n",
    "        \n",
    "    # Return the set of solution states for the whole path\n",
    "    return states"
   ]
  },
  {
   "cell_type": "markdown",
   "metadata": {},
   "source": [
    "Finally, we calculate the set of all rotation states that, for each of the goals, connects at least one path from 0 to that goal"
   ]
  },
  {
   "cell_type": "code",
   "execution_count": 9,
   "metadata": {},
   "outputs": [],
   "source": [
    "# Initially we suppose that all states work\n",
    "final_states = set([(tuple([i for i in range(inputDict['num_joints'])]),tuple([0 for i in range(inputDict['num_joints'])]))])\n",
    "for goal in inputDict['goals']:\n",
    "    # Find the set of states that allow the water to flow from 0 to the goal along at least one path\n",
    "    states = set()\n",
    "    for path in nx.all_simple_paths(G, 0, goal):\n",
    "        states = states.union(solutionStates(tuple(path)))\n",
    "    # Find the set of states that allow the water to flow from 0 to every goal considered so far\n",
    "    final_states = intersection(final_states, states)"
   ]
  },
  {
   "cell_type": "code",
   "execution_count": 10,
   "metadata": {},
   "outputs": [
    {
     "data": {
      "text/plain": [
       "{((7,), (2, 0, 1, 0, 3, 0, 1, 0, 1, 0)),\n",
       " ((7,), (2, 0, 1, 0, 3, 0, 1, 0, 1, 1)),\n",
       " ((7,), (2, 0, 1, 0, 3, 0, 3, 0, 1, 0)),\n",
       " ((7,), (2, 0, 1, 0, 3, 0, 3, 0, 1, 1)),\n",
       " ((7,), (2, 0, 2, 0, 3, 0, 1, 0, 1, 0)),\n",
       " ((7,), (2, 0, 2, 0, 3, 0, 1, 0, 1, 1)),\n",
       " ((7,), (2, 0, 2, 0, 3, 0, 3, 0, 1, 0)),\n",
       " ((7,), (2, 0, 2, 0, 3, 0, 3, 0, 1, 1))}"
      ]
     },
     "execution_count": 10,
     "metadata": {},
     "output_type": "execute_result"
    }
   ],
   "source": [
    "final_states"
   ]
  },
  {
   "cell_type": "markdown",
   "metadata": {},
   "source": [
    "Now just give the ones which require less than or exactly *attempts* inputs to the program"
   ]
  },
  {
   "cell_type": "code",
   "execution_count": 11,
   "metadata": {},
   "outputs": [],
   "source": [
    "def filterForAttempts(states):\n",
    "    return set(filter(lambda x: sum(x[1]) <= inputDict['attempts'], states))"
   ]
  },
  {
   "cell_type": "code",
   "execution_count": 12,
   "metadata": {
    "scrolled": true
   },
   "outputs": [
    {
     "data": {
      "text/plain": [
       "{((7,), (2, 0, 1, 0, 3, 0, 1, 0, 1, 0))}"
      ]
     },
     "execution_count": 12,
     "metadata": {},
     "output_type": "execute_result"
    }
   ],
   "source": [
    "filterForAttempts(final_states)"
   ]
  },
  {
   "cell_type": "markdown",
   "metadata": {},
   "source": [
    "Generate a command list to feed to the program"
   ]
  },
  {
   "cell_type": "code",
   "execution_count": null,
   "metadata": {},
   "outputs": [],
   "source": [
    "sols = [[0],[0,0,1,1,1,3,5,5,5],[0,0,2,4,4,4,6,8],[3,4,4,6,6,6,10,13]]\n",
    "with open('commands.txt','w') as f:\n",
    "    for sol in sols:\n",
    "        for num in sol:\n",
    "            f.write(str(num)+'\\n')\n",
    "    for i in range(32767+2):\n",
    "        f.write(str(32)+'\\n')"
   ]
  }
 ],
 "metadata": {
  "kernelspec": {
   "display_name": "Python 3",
   "language": "python",
   "name": "python3"
  },
  "language_info": {
   "codemirror_mode": {
    "name": "ipython",
    "version": 3
   },
   "file_extension": ".py",
   "mimetype": "text/x-python",
   "name": "python",
   "nbconvert_exporter": "python",
   "pygments_lexer": "ipython3",
   "version": "3.5.3"
  }
 },
 "nbformat": 4,
 "nbformat_minor": 2
}
